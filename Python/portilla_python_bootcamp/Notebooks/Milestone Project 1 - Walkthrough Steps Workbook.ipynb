{
 "cells": [
  {
   "cell_type": "markdown",
   "metadata": {},
   "source": [
    "# Milestone Project 1: Walkthrough Steps Workbook\n",
    "\n",
    "Below is a set of steps for you to follow to try to create the Tic Tac Toe Milestone Project game!"
   ]
  },
  {
   "cell_type": "markdown",
   "metadata": {},
   "source": [
    "#### Some suggested tools before you get started:\n",
    "To take input from a user:\n",
    "\n",
    "    player1 = input(\"Please pick a marker 'X' or 'O'\")\n",
    "    \n",
    "Note that input() takes in a string. If you need an integer value, use\n",
    "\n",
    "    position = int(input('Please enter a number'))\n",
    "    \n",
    "<br>To clear the screen between moves:\n",
    "\n",
    "    from IPython.display import clear_output\n",
    "    clear_output()\n",
    "    \n",
    "Note that clear_output() will only work in jupyter. To clear the screen in other IDEs, consider:\n",
    "\n",
    "    print('\\n'*100)\n",
    "    \n",
    "This scrolls the previous board up out of view. Now on to the program!"
   ]
  },
  {
   "cell_type": "markdown",
   "metadata": {},
   "source": [
    "**Step 1: Write a function that can print out a board. Set up your board as a list, where each index 1-9 corresponds with a number on a number pad, so you get a 3 by 3 board representation.**"
   ]
  },
  {
   "cell_type": "code",
   "execution_count": 1,
   "metadata": {},
   "outputs": [],
   "source": [
    "from IPython.display import clear_output\n",
    "\n",
    "def display_board(board):\n",
    "    clear_output()\n",
    "# 1st sollution\n",
    "    boardString = \"\"\n",
    "    i = 1;\n",
    "    for field in board:\n",
    "        boardString += f\"| {field} |\"\n",
    "        if i % 3 == 0:\n",
    "            boardString += \"\\n\"\n",
    "        i += 1\n",
    "    print(boardString)\n",
    "\n",
    "# 2nd sollution\n",
    "# boardString = \"\"\n",
    "#     boardString += str(board[6:9:]) + \"\\n\"\n",
    "#     boardString += str(board[3:6:]) + \"\\n\"\n",
    "#     boardString += str(board[0:3:]) + \"\\n\"\n",
    "#     print(boardString)\n",
    "    "
   ]
  },
  {
   "cell_type": "markdown",
   "metadata": {},
   "source": [
    "**TEST Step 1:** run your function on a test version of the board list, and make adjustments as necessary"
   ]
  },
  {
   "cell_type": "code",
   "execution_count": 2,
   "metadata": {},
   "outputs": [
    {
     "name": "stdout",
     "output_type": "stream",
     "text": [
      "| X || O || X |\n",
      "| O || X || O |\n",
      "| X || O || X |\n",
      "\n"
     ]
    }
   ],
   "source": [
    "test_board = ['X','O','X','O','X','O','X','O','X']\n",
    "display_board(test_board)"
   ]
  },
  {
   "cell_type": "markdown",
   "metadata": {},
   "source": [
    "**Step 2: Write a function that can take in a player input and assign their marker as 'X' or 'O'. Think about using *while* loops to continually ask until you get a correct answer.**"
   ]
  },
  {
   "cell_type": "code",
   "execution_count": 3,
   "metadata": {},
   "outputs": [],
   "source": [
    "def player_input():\n",
    "    assign = \" \"\n",
    "    while assign not in(\"X\",\"O\"):\n",
    "        assign = input(\" Player1: Choose X or O: \").upper()\n",
    "    return assign"
   ]
  },
  {
   "cell_type": "markdown",
   "metadata": {},
   "source": [
    "**TEST Step 2:** run the function to make sure it returns the desired output"
   ]
  },
  {
   "cell_type": "code",
   "execution_count": 4,
   "metadata": {},
   "outputs": [
    {
     "name": "stdout",
     "output_type": "stream",
     "text": [
      " Player1: Choose X or O: X\n"
     ]
    },
    {
     "data": {
      "text/plain": [
       "'X'"
      ]
     },
     "execution_count": 4,
     "metadata": {},
     "output_type": "execute_result"
    }
   ],
   "source": [
    "player_input()"
   ]
  },
  {
   "cell_type": "markdown",
   "metadata": {},
   "source": [
    "**Step 3: Write a function that takes in the board list object, a marker ('X' or 'O'), and a desired position (number 1-9) and assigns it to the board.**"
   ]
  },
  {
   "cell_type": "code",
   "execution_count": 5,
   "metadata": {},
   "outputs": [],
   "source": [
    "def place_marker(board, marker, position):\n",
    "    board[position - 1] = marker\n",
    "    return board"
   ]
  },
  {
   "cell_type": "markdown",
   "metadata": {},
   "source": [
    "**TEST Step 3:** run the place marker function using test parameters and display the modified board"
   ]
  },
  {
   "cell_type": "code",
   "execution_count": 6,
   "metadata": {},
   "outputs": [
    {
     "name": "stdout",
     "output_type": "stream",
     "text": [
      "| X || O || X |\n",
      "| O || X || O |\n",
      "| X || O || X |\n",
      "\n"
     ]
    }
   ],
   "source": [
    "place_marker(test_board,'O',8)\n",
    "display_board(test_board)"
   ]
  },
  {
   "cell_type": "markdown",
   "metadata": {},
   "source": [
    "**Step 4: Write a function that takes in a board and a mark (X or O) and then checks to see if that mark has won. **"
   ]
  },
  {
   "cell_type": "code",
   "execution_count": 7,
   "metadata": {},
   "outputs": [],
   "source": [
    "def win_check(board, mark):\n",
    "    \n",
    "    joined = ''.join(board)\n",
    "    win = str(3 * mark)\n",
    "    \n",
    "    horizontal_check = win in joined[0:3:] or win in joined[3:6:] or win in joined[6:9:]\n",
    "    vertical_check = win in joined[::3] or win in joined[1::3] or win in joined[2::3]\n",
    "    across_check = win in joined[::4] or win in joined[2:6:2]\n",
    "    \n",
    "    # Tests\n",
    "    #print(joined[::3])\n",
    "    #print(joined[1::3])\n",
    "    #print(joined[2::3])\n",
    "    #print(joined[::4])\n",
    "    #print(joined[2:7:2])\n",
    "    \n",
    "    return horizontal_check or vertical_check or across_check"
   ]
  },
  {
   "cell_type": "markdown",
   "metadata": {},
   "source": [
    "**TEST Step 4:** run the win_check function against our test_board - it should return True"
   ]
  },
  {
   "cell_type": "code",
   "execution_count": 8,
   "metadata": {},
   "outputs": [
    {
     "data": {
      "text/plain": [
       "True"
      ]
     },
     "execution_count": 8,
     "metadata": {},
     "output_type": "execute_result"
    }
   ],
   "source": [
    "win_check(test_board,'X')"
   ]
  },
  {
   "cell_type": "markdown",
   "metadata": {},
   "source": [
    "**Step 5: Write a function that uses the random module to randomly decide which player goes first. You may want to lookup random.randint() Return a string of which player went first.**"
   ]
  },
  {
   "cell_type": "code",
   "execution_count": 9,
   "metadata": {},
   "outputs": [],
   "source": [
    "import random\n",
    "\n",
    "def choose_first():\n",
    "    coin_toss = random.randint(0 ,1)\n",
    "    if coin_toss == 0:\n",
    "        return \"O\"\n",
    "    if coin_toss == 1:\n",
    "        return \"X\""
   ]
  },
  {
   "cell_type": "markdown",
   "metadata": {},
   "source": [
    "**Step 6: Write a function that returns a boolean indicating whether a space on the board is freely available.**"
   ]
  },
  {
   "cell_type": "code",
   "execution_count": 10,
   "metadata": {},
   "outputs": [],
   "source": [
    "def space_check(board, position):\n",
    "    position = int(position)\n",
    "    if board[position - 1] == \"O\" or board[position - 1] == \"X\":\n",
    "        return False\n",
    "    else:\n",
    "        return True"
   ]
  },
  {
   "cell_type": "markdown",
   "metadata": {},
   "source": [
    "**Step 7: Write a function that checks if the board is full and returns a boolean value. True if full, False otherwise.**"
   ]
  },
  {
   "cell_type": "code",
   "execution_count": 11,
   "metadata": {},
   "outputs": [],
   "source": [
    "def full_board_check(board):\n",
    "    count = 0;\n",
    "    for field in board:\n",
    "        if field == \"X\" or field == \"O\":\n",
    "            count += 1\n",
    "    return count >= 9"
   ]
  },
  {
   "cell_type": "markdown",
   "metadata": {},
   "source": [
    "**Step 8: Write a function that asks for a player's next position (as a number 1-9) and then uses the function from step 6 to check if it's a free position. If it is, then return the position for later use.**"
   ]
  },
  {
   "cell_type": "code",
   "execution_count": 12,
   "metadata": {},
   "outputs": [],
   "source": [
    "def player_choice(board):\n",
    "    position = 0\n",
    "    while type(position) != int or position not in range(1, 10):\n",
    "        position = int(input(\" Please enter a number between 1 and 9: \"))\n",
    "    while not space_check(board, position):\n",
    "        position = int(input(\" Invalid field please enter a number between 1 and 9 \"))\n",
    "    return position"
   ]
  },
  {
   "cell_type": "markdown",
   "metadata": {},
   "source": [
    "**Step 9: Write a function that asks the player if they want to play again and returns a boolean True if they do want to play again.**"
   ]
  },
  {
   "cell_type": "code",
   "execution_count": 13,
   "metadata": {},
   "outputs": [],
   "source": [
    "def replay():\n",
    "    again = input(\" Do you want to play again? Y/N: \")\n",
    "    if again.upper() == \"Y\":\n",
    "        return True\n",
    "    else:\n",
    "        return False"
   ]
  },
  {
   "cell_type": "markdown",
   "metadata": {
    "collapsed": true
   },
   "source": [
    "**Step 10: Here comes the hard part! Use while loops and the functions you've made to run the game!**"
   ]
  },
  {
   "cell_type": "code",
   "execution_count": 16,
   "metadata": {},
   "outputs": [
    {
     "name": "stdout",
     "output_type": "stream",
     "text": [
      "| O || X ||   |\n",
      "| O || X ||   |\n",
      "| O ||   || X |\n",
      "\n",
      " Player O won\n",
      " Do you want to play again? Y/N: n\n"
     ]
    }
   ],
   "source": [
    "print('Welcome to Tic Tac Toe!')\n",
    "    \n",
    "\n",
    "while True:\n",
    "    # Set the game up here\n",
    "    board = 9 * [' ']\n",
    "    display_board(board)\n",
    "    \n",
    "    # it would be easier if player_input() returned a tuple\n",
    "    p1mark = player_input()\n",
    "    if p1mark == \"X\":\n",
    "        p2mark = \"O\"\n",
    "    else:\n",
    "        p2mark = \"X\"\n",
    "        \n",
    "    first = choose_first()\n",
    "    p1turn = False\n",
    "    if first == p1mark:\n",
    "        p1turn = True\n",
    "    \n",
    "    while not full_board_check(board):\n",
    "        #Player 1 Turn\n",
    "        if(p1turn):\n",
    "            print(f\" It is {p1mark}'s' turn\")\n",
    "            cell = player_choice(board)\n",
    "            board = place_marker(board, p1mark, cell)\n",
    "            display_board(board)\n",
    "            p1turn = not p1turn\n",
    "            if win_check(board, p1mark):\n",
    "                print(f\" Player {p1mark} won\")\n",
    "                break\n",
    "        # Player2's turn.\n",
    "        else:    \n",
    "            print(f\" It is {p2mark}'s' turn\")\n",
    "            cell = player_choice(board)\n",
    "            board = place_marker(board, p2mark, cell)\n",
    "            display_board(board)\n",
    "            p1turn = not p1turn\n",
    "            if win_check(board, p2mark):\n",
    "                print(f\" Player {p2mark} won\")\n",
    "                break\n",
    "\n",
    "    if not replay():\n",
    "        break"
   ]
  },
  {
   "cell_type": "markdown",
   "metadata": {
    "collapsed": true
   },
   "source": [
    "## Good Job!"
   ]
  }
 ],
 "metadata": {
  "kernelspec": {
   "display_name": "Python 3",
   "language": "python",
   "name": "python3"
  },
  "language_info": {
   "codemirror_mode": {
    "name": "ipython",
    "version": 3
   },
   "file_extension": ".py",
   "mimetype": "text/x-python",
   "name": "python",
   "nbconvert_exporter": "python",
   "pygments_lexer": "ipython3",
   "version": "3.6.5"
  }
 },
 "nbformat": 4,
 "nbformat_minor": 1
}
